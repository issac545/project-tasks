{
 "cells": [
  {
   "cell_type": "code",
   "execution_count": 1,
   "id": "818b304c",
   "metadata": {},
   "outputs": [],
   "source": [
    "import pandas as pd\n",
    "import numpy as np\n",
    "import matplotlib.pyplot as plt\n",
    "import seaborn as sns"
   ]
  },
  {
   "cell_type": "code",
   "execution_count": 2,
   "id": "0093f30e",
   "metadata": {},
   "outputs": [
    {
     "data": {
      "text/plain": [
       "['anagrams',\n",
       " 'anscombe',\n",
       " 'attention',\n",
       " 'brain_networks',\n",
       " 'car_crashes',\n",
       " 'diamonds',\n",
       " 'dots',\n",
       " 'exercise',\n",
       " 'flights',\n",
       " 'fmri',\n",
       " 'gammas',\n",
       " 'geyser',\n",
       " 'iris',\n",
       " 'mpg',\n",
       " 'penguins',\n",
       " 'planets',\n",
       " 'taxis',\n",
       " 'tips',\n",
       " 'titanic']"
      ]
     },
     "execution_count": 2,
     "metadata": {},
     "output_type": "execute_result"
    }
   ],
   "source": [
    "sns.get_dataset_names()"
   ]
  },
  {
   "cell_type": "code",
   "execution_count": 3,
   "id": "45a6c225",
   "metadata": {},
   "outputs": [
    {
     "data": {
      "text/html": [
       "<div>\n",
       "<style scoped>\n",
       "    .dataframe tbody tr th:only-of-type {\n",
       "        vertical-align: middle;\n",
       "    }\n",
       "\n",
       "    .dataframe tbody tr th {\n",
       "        vertical-align: top;\n",
       "    }\n",
       "\n",
       "    .dataframe thead th {\n",
       "        text-align: right;\n",
       "    }\n",
       "</style>\n",
       "<table border=\"1\" class=\"dataframe\">\n",
       "  <thead>\n",
       "    <tr style=\"text-align: right;\">\n",
       "      <th></th>\n",
       "      <th>sepal_length</th>\n",
       "      <th>sepal_width</th>\n",
       "      <th>petal_length</th>\n",
       "      <th>petal_width</th>\n",
       "      <th>species</th>\n",
       "    </tr>\n",
       "  </thead>\n",
       "  <tbody>\n",
       "    <tr>\n",
       "      <th>0</th>\n",
       "      <td>5.1</td>\n",
       "      <td>3.5</td>\n",
       "      <td>1.4</td>\n",
       "      <td>0.2</td>\n",
       "      <td>setosa</td>\n",
       "    </tr>\n",
       "    <tr>\n",
       "      <th>1</th>\n",
       "      <td>4.9</td>\n",
       "      <td>3.0</td>\n",
       "      <td>1.4</td>\n",
       "      <td>0.2</td>\n",
       "      <td>setosa</td>\n",
       "    </tr>\n",
       "    <tr>\n",
       "      <th>2</th>\n",
       "      <td>4.7</td>\n",
       "      <td>3.2</td>\n",
       "      <td>1.3</td>\n",
       "      <td>0.2</td>\n",
       "      <td>setosa</td>\n",
       "    </tr>\n",
       "    <tr>\n",
       "      <th>3</th>\n",
       "      <td>4.6</td>\n",
       "      <td>3.1</td>\n",
       "      <td>1.5</td>\n",
       "      <td>0.2</td>\n",
       "      <td>setosa</td>\n",
       "    </tr>\n",
       "    <tr>\n",
       "      <th>4</th>\n",
       "      <td>5.0</td>\n",
       "      <td>3.6</td>\n",
       "      <td>1.4</td>\n",
       "      <td>0.2</td>\n",
       "      <td>setosa</td>\n",
       "    </tr>\n",
       "    <tr>\n",
       "      <th>...</th>\n",
       "      <td>...</td>\n",
       "      <td>...</td>\n",
       "      <td>...</td>\n",
       "      <td>...</td>\n",
       "      <td>...</td>\n",
       "    </tr>\n",
       "    <tr>\n",
       "      <th>145</th>\n",
       "      <td>6.7</td>\n",
       "      <td>3.0</td>\n",
       "      <td>5.2</td>\n",
       "      <td>2.3</td>\n",
       "      <td>virginica</td>\n",
       "    </tr>\n",
       "    <tr>\n",
       "      <th>146</th>\n",
       "      <td>6.3</td>\n",
       "      <td>2.5</td>\n",
       "      <td>5.0</td>\n",
       "      <td>1.9</td>\n",
       "      <td>virginica</td>\n",
       "    </tr>\n",
       "    <tr>\n",
       "      <th>147</th>\n",
       "      <td>6.5</td>\n",
       "      <td>3.0</td>\n",
       "      <td>5.2</td>\n",
       "      <td>2.0</td>\n",
       "      <td>virginica</td>\n",
       "    </tr>\n",
       "    <tr>\n",
       "      <th>148</th>\n",
       "      <td>6.2</td>\n",
       "      <td>3.4</td>\n",
       "      <td>5.4</td>\n",
       "      <td>2.3</td>\n",
       "      <td>virginica</td>\n",
       "    </tr>\n",
       "    <tr>\n",
       "      <th>149</th>\n",
       "      <td>5.9</td>\n",
       "      <td>3.0</td>\n",
       "      <td>5.1</td>\n",
       "      <td>1.8</td>\n",
       "      <td>virginica</td>\n",
       "    </tr>\n",
       "  </tbody>\n",
       "</table>\n",
       "<p>150 rows × 5 columns</p>\n",
       "</div>"
      ],
      "text/plain": [
       "     sepal_length  sepal_width  petal_length  petal_width    species\n",
       "0             5.1          3.5           1.4          0.2     setosa\n",
       "1             4.9          3.0           1.4          0.2     setosa\n",
       "2             4.7          3.2           1.3          0.2     setosa\n",
       "3             4.6          3.1           1.5          0.2     setosa\n",
       "4             5.0          3.6           1.4          0.2     setosa\n",
       "..            ...          ...           ...          ...        ...\n",
       "145           6.7          3.0           5.2          2.3  virginica\n",
       "146           6.3          2.5           5.0          1.9  virginica\n",
       "147           6.5          3.0           5.2          2.0  virginica\n",
       "148           6.2          3.4           5.4          2.3  virginica\n",
       "149           5.9          3.0           5.1          1.8  virginica\n",
       "\n",
       "[150 rows x 5 columns]"
      ]
     },
     "execution_count": 3,
     "metadata": {},
     "output_type": "execute_result"
    }
   ],
   "source": [
    "data=sns.load_dataset(\"iris\")\n",
    "data"
   ]
  },
  {
   "cell_type": "code",
   "execution_count": 4,
   "id": "7b34e66b",
   "metadata": {},
   "outputs": [
    {
     "data": {
      "text/plain": [
       "sepal_length    0\n",
       "sepal_width     0\n",
       "petal_length    0\n",
       "petal_width     0\n",
       "species         0\n",
       "dtype: int64"
      ]
     },
     "execution_count": 4,
     "metadata": {},
     "output_type": "execute_result"
    }
   ],
   "source": [
    "data.isna().sum()"
   ]
  },
  {
   "cell_type": "code",
   "execution_count": 5,
   "id": "fd358b2e",
   "metadata": {},
   "outputs": [
    {
     "data": {
      "text/plain": [
       "0         setosa\n",
       "1         setosa\n",
       "2         setosa\n",
       "3         setosa\n",
       "4         setosa\n",
       "         ...    \n",
       "145    virginica\n",
       "146    virginica\n",
       "147    virginica\n",
       "148    virginica\n",
       "149    virginica\n",
       "Name: species, Length: 150, dtype: object"
      ]
     },
     "execution_count": 5,
     "metadata": {},
     "output_type": "execute_result"
    }
   ],
   "source": [
    "x=data.iloc[:,:-1]\n",
    "y=data.iloc[:,-1]\n",
    "y"
   ]
  },
  {
   "cell_type": "code",
   "execution_count": 6,
   "id": "9cb9a70b",
   "metadata": {},
   "outputs": [],
   "source": [
    "from sklearn.model_selection import train_test_split"
   ]
  },
  {
   "cell_type": "code",
   "execution_count": 7,
   "id": "ffdec8ef",
   "metadata": {},
   "outputs": [],
   "source": [
    "x_train,x_test,y_train,y_test=train_test_split(x,y,test_size=.2)"
   ]
  },
  {
   "cell_type": "code",
   "execution_count": 8,
   "id": "ad957b97",
   "metadata": {},
   "outputs": [],
   "source": [
    "from sklearn.preprocessing import StandardScaler"
   ]
  },
  {
   "cell_type": "code",
   "execution_count": 9,
   "id": "5aa7679a",
   "metadata": {},
   "outputs": [],
   "source": [
    "sc=StandardScaler()\n",
    "x_train_scale=sc.fit_transform(x_train)\n",
    "x_test_scale=sc.transform(x_test)"
   ]
  },
  {
   "cell_type": "code",
   "execution_count": 10,
   "id": "b7cfffe5",
   "metadata": {},
   "outputs": [
    {
     "data": {
      "text/plain": [
       "array([[-0.99542155,  1.27241909, -1.30465185, -1.26913021],\n",
       "       [-1.47951714,  0.3342299 , -1.30465185, -1.26913021],\n",
       "       [-1.23746935, -0.1348647 , -1.30465185, -1.39764972],\n",
       "       [-0.75337376,  0.8033245 , -1.30465185, -1.26913021],\n",
       "       [ 0.57788911,  0.5687772 ,  0.55444182,  0.530143  ],\n",
       "       [ 2.27222367, -1.07305389,  1.7938376 ,  1.4297796 ],\n",
       "       [-0.99542155,  0.5687772 , -1.30465185, -1.26913021],\n",
       "       [-0.26927817, -0.36941199, -0.06525607,  0.14458445],\n",
       "       [-1.11644545, -0.1348647 , -1.30465185, -1.26913021],\n",
       "       [ 0.69891301,  0.3342299 ,  0.89245886,  1.4297796 ],\n",
       "       [ 1.0619847 , -0.1348647 ,  0.83612268,  1.4297796 ],\n",
       "       [ 0.09379352, -0.1348647 ,  0.27276097,  0.40162348],\n",
       "       [ 0.8199369 , -0.1348647 ,  1.17413971,  1.30126009],\n",
       "       [ 0.57788911, -0.60395929,  0.77978651,  0.40162348],\n",
       "       [ 1.30403249,  0.0996826 ,  0.77978651,  1.4297796 ],\n",
       "       [ 1.42505639,  0.3342299 ,  0.55444182,  0.27310397],\n",
       "       [-1.23746935, -0.1348647 , -1.30465185, -1.14061069],\n",
       "       [ 0.57788911, -1.30760119,  0.66711417,  0.40162348],\n",
       "       [-0.99542155, -1.77669578, -0.23426458, -0.24097409],\n",
       "       [ 1.0619847 , -0.1348647 ,  0.72345034,  0.65866251],\n",
       "       [-1.23746935,  0.8033245 , -1.1919795 , -1.26913021],\n",
       "       [-1.60054104, -1.77669578, -1.36098802, -1.14061069],\n",
       "       [-0.14825427, -0.60395929,  0.44176948,  0.14458445],\n",
       "       [ 0.45686521,  0.8033245 ,  0.94879503,  1.4297796 ],\n",
       "       [ 1.30403249,  0.0996826 ,  0.66711417,  0.40162348],\n",
       "       [-0.99542155, -2.48033768, -0.12159224, -0.24097409],\n",
       "       [-1.11644545,  0.0996826 , -1.24831567, -1.26913021],\n",
       "       [ 2.27222367, -0.1348647 ,  1.34314823,  1.4297796 ],\n",
       "       [-0.63234986,  1.50696639, -1.24831567, -1.26913021],\n",
       "       [ 0.9409608 , -0.36941199,  0.49810565,  0.14458445],\n",
       "       [-1.72156494,  0.3342299 , -1.36098802, -1.26913021],\n",
       "       [ 0.33584131, -0.1348647 ,  0.49810565,  0.27310397],\n",
       "       [ 0.8199369 , -0.1348647 ,  0.83612268,  1.04422106],\n",
       "       [ 0.21481742,  0.8033245 ,  0.44176948,  0.530143  ],\n",
       "       [-0.87439766,  1.03787179, -1.30465185, -1.26913021],\n",
       "       [-0.87439766,  1.50696639, -1.24831567, -1.01209118],\n",
       "       [ 0.8199369 ,  0.3342299 ,  0.77978651,  1.04422106],\n",
       "       [ 0.69891301, -0.83850659,  0.89245886,  0.91570154],\n",
       "       [ 1.66710418, -0.1348647 ,  1.17413971,  0.530143  ],\n",
       "       [-0.14825427, -1.30760119,  0.72345034,  1.04422106],\n",
       "       [ 1.78812808, -0.36941199,  1.45582057,  0.78718203],\n",
       "       [-0.14825427, -1.07305389, -0.12159224, -0.24097409],\n",
       "       [-0.87439766, -1.30760119, -0.4032731 , -0.11245458],\n",
       "       [ 1.18300859, -0.1348647 ,  1.0051312 ,  1.17274057],\n",
       "       [-0.87439766,  1.74151369, -1.24831567, -1.14061069],\n",
       "       [-0.99542155, -0.1348647 , -1.1919795 , -1.26913021],\n",
       "       [-1.35849324,  0.3342299 , -1.36098802, -1.26913021],\n",
       "       [-1.47951714,  0.8033245 , -1.30465185, -1.14061069],\n",
       "       [-0.02723038, -0.83850659,  0.21642479, -0.24097409],\n",
       "       [-0.39030207,  1.03787179, -1.36098802, -1.26913021],\n",
       "       [-0.99542155,  0.8033245 , -1.24831567, -1.26913021],\n",
       "       [-0.51132597,  1.50696639, -1.24831567, -1.26913021],\n",
       "       [-0.26927817, -0.60395929,  0.66711417,  1.04422106],\n",
       "       [-1.47951714,  0.0996826 , -1.24831567, -1.26913021],\n",
       "       [ 0.21481742, -0.1348647 ,  0.610778  ,  0.78718203],\n",
       "       [-0.26927817, -1.30760119,  0.10375245, -0.11245458],\n",
       "       [ 0.69891301, -0.60395929,  1.06146737,  1.30126009],\n",
       "       [-0.87439766,  1.74151369, -1.02297099, -1.01209118],\n",
       "       [ 0.57788911, -1.30760119,  0.72345034,  0.91570154],\n",
       "       [-0.39030207,  2.67970288, -1.30465185, -1.26913021],\n",
       "       [-0.14825427,  1.74151369, -1.13564333, -1.14061069],\n",
       "       [ 0.57788911, -1.77669578,  0.38543331,  0.14458445],\n",
       "       [-0.87439766,  0.5687772 , -1.13564333, -0.88357166],\n",
       "       [-1.47951714,  1.27241909, -1.52999653, -1.26913021],\n",
       "       [-0.26927817, -0.1348647 ,  0.21642479,  0.14458445],\n",
       "       [ 1.66710418,  1.27241909,  1.34314823,  1.68681863],\n",
       "       [-0.51132597, -0.1348647 ,  0.44176948,  0.40162348],\n",
       "       [ 0.8199369 , -0.1348647 ,  1.0051312 ,  0.78718203],\n",
       "       [-0.39030207, -1.54214849, -0.00891989, -0.24097409],\n",
       "       [ 0.57788911,  0.8033245 ,  1.06146737,  1.55829912],\n",
       "       [-0.99542155,  0.8033245 , -1.1919795 , -1.01209118],\n",
       "       [-1.35849324,  0.3342299 , -1.1919795 , -1.26913021],\n",
       "       [ 0.09379352,  0.3342299 ,  0.610778  ,  0.78718203],\n",
       "       [-0.39030207, -1.77669578,  0.16008862,  0.14458445],\n",
       "       [ 1.18300859, -0.60395929,  0.610778  ,  0.27310397],\n",
       "       [-1.23746935,  0.8033245 , -1.02297099, -1.26913021],\n",
       "       [ 1.54608028, -0.1348647 ,  1.23047589,  1.17274057],\n",
       "       [-1.11644545,  1.27241909, -1.30465185, -1.39764972],\n",
       "       [ 2.27222367, -0.60395929,  1.68116526,  1.04422106],\n",
       "       [-0.87439766,  0.8033245 , -1.24831567, -1.26913021],\n",
       "       [ 0.33584131, -0.60395929,  0.16008862,  0.14458445],\n",
       "       [-0.75337376, -0.83850659,  0.10375245,  0.27310397],\n",
       "       [ 1.0619847 ,  0.0996826 ,  0.55444182,  0.40162348],\n",
       "       [ 0.45686521, -0.36941199,  0.32909714,  0.14458445],\n",
       "       [-0.51132597,  0.8033245 , -1.13564333, -1.26913021],\n",
       "       [-0.02723038, -1.07305389,  0.16008862,  0.01606494],\n",
       "       [-1.72156494, -0.36941199, -1.30465185, -1.26913021],\n",
       "       [-0.99542155,  1.03787179, -1.1919795 , -0.75505215],\n",
       "       [ 0.33584131, -0.60395929,  0.55444182,  0.01606494],\n",
       "       [-0.99542155,  1.03787179, -1.36098802, -1.14061069],\n",
       "       [ 0.57788911, -0.36941199,  1.06146737,  0.78718203],\n",
       "       [-0.26927817, -0.83850659,  0.27276097,  0.14458445],\n",
       "       [ 1.0619847 ,  0.0996826 ,  1.06146737,  1.55829912],\n",
       "       [-1.11644545,  0.0996826 , -1.24831567, -1.39764972],\n",
       "       [ 1.0619847 , -1.30760119,  1.17413971,  0.78718203],\n",
       "       [-0.02723038, -0.83850659,  0.77978651,  0.91570154],\n",
       "       [-1.11644545, -1.54214849, -0.23426458, -0.24097409],\n",
       "       [ 0.57788911,  0.5687772 ,  1.28681206,  1.68681863],\n",
       "       [ 0.69891301, -0.60395929,  1.06146737,  1.17274057],\n",
       "       [ 2.51427146,  1.74151369,  1.51215674,  1.04422106],\n",
       "       [-1.11644545, -1.30760119,  0.44176948,  0.65866251],\n",
       "       [ 1.30403249,  0.3342299 ,  1.11780354,  1.4297796 ],\n",
       "       [ 0.33584131, -0.1348647 ,  0.66711417,  0.78718203],\n",
       "       [ 0.8199369 , -0.60395929,  0.49810565,  0.40162348],\n",
       "       [-0.87439766,  1.03787179, -1.30465185, -1.14061069],\n",
       "       [ 0.21481742, -0.36941199,  0.44176948,  0.40162348],\n",
       "       [ 0.09379352, -0.1348647 ,  0.77978651,  0.78718203],\n",
       "       [ 1.30403249,  0.0996826 ,  0.94879503,  1.17274057],\n",
       "       [-0.02723038,  2.21060829, -1.41732419, -1.26913021],\n",
       "       [ 0.21481742, -2.01124308,  0.16008862, -0.24097409],\n",
       "       [ 0.21481742, -0.83850659,  0.77978651,  0.530143  ],\n",
       "       [-0.02723038, -0.60395929,  0.77978651,  1.55829912],\n",
       "       [ 0.9409608 , -0.1348647 ,  0.38543331,  0.27310397],\n",
       "       [-0.75337376,  2.44515558, -1.24831567, -1.39764972],\n",
       "       [ 0.21481742, -2.01124308,  0.72345034,  0.40162348],\n",
       "       [ 1.18300859,  0.3342299 ,  1.23047589,  1.4297796 ],\n",
       "       [-0.87439766,  1.74151369, -1.1919795 , -1.26913021],\n",
       "       [ 0.33584131, -1.07305389,  1.06146737,  0.27310397],\n",
       "       [ 1.66710418,  0.3342299 ,  1.28681206,  0.78718203],\n",
       "       [-0.51132597,  0.8033245 , -1.24831567, -1.01209118]])"
      ]
     },
     "execution_count": 10,
     "metadata": {},
     "output_type": "execute_result"
    }
   ],
   "source": [
    "x_train_scale"
   ]
  },
  {
   "cell_type": "code",
   "execution_count": 11,
   "id": "705459d8",
   "metadata": {},
   "outputs": [],
   "source": [
    "from sklearn.neighbors import KNeighborsClassifier "
   ]
  },
  {
   "cell_type": "code",
   "execution_count": 12,
   "id": "5b4811c3",
   "metadata": {},
   "outputs": [],
   "source": [
    "knC=KNeighborsClassifier(n_neighbors=3)"
   ]
  },
  {
   "cell_type": "code",
   "execution_count": 13,
   "id": "7b6155dd",
   "metadata": {},
   "outputs": [
    {
     "data": {
      "text/plain": [
       "KNeighborsClassifier(n_neighbors=3)"
      ]
     },
     "execution_count": 13,
     "metadata": {},
     "output_type": "execute_result"
    }
   ],
   "source": [
    "knC.fit(x_train_scale,y_train)"
   ]
  },
  {
   "cell_type": "code",
   "execution_count": 14,
   "id": "e777db70",
   "metadata": {},
   "outputs": [
    {
     "data": {
      "text/plain": [
       "array(['virginica', 'versicolor', 'setosa', 'virginica', 'versicolor',\n",
       "       'versicolor', 'versicolor', 'virginica', 'versicolor', 'setosa',\n",
       "       'versicolor', 'virginica', 'virginica', 'virginica', 'setosa',\n",
       "       'virginica', 'virginica', 'setosa', 'setosa', 'setosa',\n",
       "       'versicolor', 'versicolor', 'versicolor', 'setosa', 'virginica',\n",
       "       'versicolor', 'versicolor', 'versicolor', 'versicolor', 'setosa'],\n",
       "      dtype=object)"
      ]
     },
     "execution_count": 14,
     "metadata": {},
     "output_type": "execute_result"
    }
   ],
   "source": [
    "y_predict=knC.predict(x_test_scale)\n",
    "y_predict"
   ]
  },
  {
   "cell_type": "code",
   "execution_count": 15,
   "id": "1413110c",
   "metadata": {},
   "outputs": [],
   "source": [
    "import sklearn.metrics as mc"
   ]
  },
  {
   "cell_type": "code",
   "execution_count": 16,
   "id": "8d2ac43d",
   "metadata": {},
   "outputs": [
    {
     "data": {
      "text/plain": [
       "['ConfusionMatrixDisplay',\n",
       " 'DetCurveDisplay',\n",
       " 'PrecisionRecallDisplay',\n",
       " 'RocCurveDisplay',\n",
       " 'SCORERS',\n",
       " '__all__',\n",
       " '__builtins__',\n",
       " '__cached__',\n",
       " '__doc__',\n",
       " '__file__',\n",
       " '__loader__',\n",
       " '__name__',\n",
       " '__package__',\n",
       " '__path__',\n",
       " '__spec__',\n",
       " '_base',\n",
       " '_classification',\n",
       " '_pairwise_fast',\n",
       " '_plot',\n",
       " '_ranking',\n",
       " '_regression',\n",
       " '_scorer',\n",
       " 'accuracy_score',\n",
       " 'adjusted_mutual_info_score',\n",
       " 'adjusted_rand_score',\n",
       " 'auc',\n",
       " 'average_precision_score',\n",
       " 'balanced_accuracy_score',\n",
       " 'brier_score_loss',\n",
       " 'calinski_harabasz_score',\n",
       " 'check_scoring',\n",
       " 'classification_report',\n",
       " 'cluster',\n",
       " 'cohen_kappa_score',\n",
       " 'completeness_score',\n",
       " 'confusion_matrix',\n",
       " 'consensus_score',\n",
       " 'coverage_error',\n",
       " 'davies_bouldin_score',\n",
       " 'dcg_score',\n",
       " 'det_curve',\n",
       " 'euclidean_distances',\n",
       " 'explained_variance_score',\n",
       " 'f1_score',\n",
       " 'fbeta_score',\n",
       " 'fowlkes_mallows_score',\n",
       " 'get_scorer',\n",
       " 'hamming_loss',\n",
       " 'hinge_loss',\n",
       " 'homogeneity_completeness_v_measure',\n",
       " 'homogeneity_score',\n",
       " 'jaccard_score',\n",
       " 'label_ranking_average_precision_score',\n",
       " 'label_ranking_loss',\n",
       " 'log_loss',\n",
       " 'make_scorer',\n",
       " 'matthews_corrcoef',\n",
       " 'max_error',\n",
       " 'mean_absolute_error',\n",
       " 'mean_absolute_percentage_error',\n",
       " 'mean_gamma_deviance',\n",
       " 'mean_poisson_deviance',\n",
       " 'mean_squared_error',\n",
       " 'mean_squared_log_error',\n",
       " 'mean_tweedie_deviance',\n",
       " 'median_absolute_error',\n",
       " 'multilabel_confusion_matrix',\n",
       " 'mutual_info_score',\n",
       " 'nan_euclidean_distances',\n",
       " 'ndcg_score',\n",
       " 'normalized_mutual_info_score',\n",
       " 'pair_confusion_matrix',\n",
       " 'pairwise',\n",
       " 'pairwise_distances',\n",
       " 'pairwise_distances_argmin',\n",
       " 'pairwise_distances_argmin_min',\n",
       " 'pairwise_distances_chunked',\n",
       " 'pairwise_kernels',\n",
       " 'plot_confusion_matrix',\n",
       " 'plot_det_curve',\n",
       " 'plot_precision_recall_curve',\n",
       " 'plot_roc_curve',\n",
       " 'precision_recall_curve',\n",
       " 'precision_recall_fscore_support',\n",
       " 'precision_score',\n",
       " 'r2_score',\n",
       " 'rand_score',\n",
       " 'recall_score',\n",
       " 'roc_auc_score',\n",
       " 'roc_curve',\n",
       " 'silhouette_samples',\n",
       " 'silhouette_score',\n",
       " 'top_k_accuracy_score',\n",
       " 'v_measure_score',\n",
       " 'zero_one_loss']"
      ]
     },
     "execution_count": 16,
     "metadata": {},
     "output_type": "execute_result"
    }
   ],
   "source": [
    "dir(mc)"
   ]
  },
  {
   "cell_type": "code",
   "execution_count": 17,
   "id": "4f128dc0",
   "metadata": {},
   "outputs": [
    {
     "data": {
      "text/plain": [
       "1.0"
      ]
     },
     "execution_count": 17,
     "metadata": {},
     "output_type": "execute_result"
    }
   ],
   "source": [
    "mc.accuracy_score(y_test,y_predict)"
   ]
  },
  {
   "cell_type": "code",
   "execution_count": null,
   "id": "c5e6b590",
   "metadata": {},
   "outputs": [],
   "source": []
  }
 ],
 "metadata": {
  "kernelspec": {
   "display_name": "Python 3",
   "language": "python",
   "name": "python3"
  },
  "language_info": {
   "codemirror_mode": {
    "name": "ipython",
    "version": 3
   },
   "file_extension": ".py",
   "mimetype": "text/x-python",
   "name": "python",
   "nbconvert_exporter": "python",
   "pygments_lexer": "ipython3",
   "version": "3.8.8"
  }
 },
 "nbformat": 4,
 "nbformat_minor": 5
}
